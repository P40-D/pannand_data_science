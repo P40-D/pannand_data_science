{
  "cells": [
    {
      "cell_type": "markdown",
      "id": "ed175a82",
      "metadata": {
        "id": "ed175a82"
      },
      "source": [
        "# Project Submission\n",
        "\n",
        "**Please use this notebook for your submission.**\n",
        "\n",
        "Make sure to fill out all the required fields and to answer all the questions.\n",
        "\n",
        "At the end of this project, you will have answered the following questions:\n",
        "\n",
        "1. What is the average number of goals for the home team?\n",
        "2. What is the average number of goals for the away team?\n",
        "3. What is the country with the highest overall home score?\n",
        "4. What are the top 3 type of tournaments?\n",
        "5. Which country has the highest overall FIFA World Cup goals?\n",
        "\n",
        "\n",
        "**Submission Requirements:**\n",
        "\n",
        "- Make sure that you run all cells with code in your notebook before submitting.\n",
        "- You can add additional cells of code if you want, but make sure to clean up your notebook, and only leave the code required to answer the questions."
      ]
    },
    {
      "cell_type": "markdown",
      "id": "43e336b8",
      "metadata": {
        "id": "43e336b8"
      },
      "source": [
        "## Step 1: Getting Started\n",
        "\n",
        "You will mainly work with a Python library called Pandas. Pandas is a powerful library that allows us to manipulate data. In order to use Pandas, you first have to import it."
      ]
    },
    {
      "cell_type": "code",
      "execution_count": 1,
      "id": "3033fd44",
      "metadata": {
        "id": "3033fd44"
      },
      "outputs": [],
      "source": [
        "import pandas as pd"
      ]
    },
    {
      "cell_type": "markdown",
      "id": "f7e3b7f7",
      "metadata": {
        "id": "f7e3b7f7"
      },
      "source": [
        "## Step 2: Loading and Exporing the Data\n",
        "\n",
        "You can use Pandas to explore and manipulate the _results.csv_ file.\n",
        "You first have to load the csv file into a Pandas dataframe, so you can then analyize the data.\n",
        "\n",
        "When using `pd.read_csv()`, make sure you inlcude the correct path to the csv file, depending on where you saved it when you downloaded it."
      ]
    },
    {
      "cell_type": "code",
      "execution_count": 2,
      "id": "2c9de780",
      "metadata": {
        "id": "2c9de780"
      },
      "outputs": [],
      "source": [
        "# First: Load the csv file into a Pandas dataframe (df)\n",
        "\n",
        "df = pd.read_csv('/content/results.csv')"
      ]
    },
    {
      "cell_type": "code",
      "execution_count": 3,
      "id": "bb2a11f0",
      "metadata": {
        "colab": {
          "base_uri": "https://localhost:8080/"
        },
        "id": "bb2a11f0",
        "outputId": "17c50110-7c14-4545-b237-f86c7f8d3174"
      },
      "outputs": [
        {
          "output_type": "stream",
          "name": "stdout",
          "text": [
            "<class 'pandas.core.frame.DataFrame'>\n",
            "RangeIndex: 28275 entries, 0 to 28274\n",
            "Data columns (total 9 columns):\n",
            " #   Column      Non-Null Count  Dtype \n",
            "---  ------      --------------  ----- \n",
            " 0   date        28275 non-null  object\n",
            " 1   home_team   28275 non-null  object\n",
            " 2   away_team   28275 non-null  object\n",
            " 3   home_score  28275 non-null  int64 \n",
            " 4   away_score  28275 non-null  int64 \n",
            " 5   tournament  28275 non-null  object\n",
            " 6   city        28274 non-null  object\n",
            " 7   country     28274 non-null  object\n",
            " 8   neutral     28274 non-null  object\n",
            "dtypes: int64(2), object(7)\n",
            "memory usage: 1.9+ MB\n"
          ]
        }
      ],
      "source": [
        "# Explore the df\n",
        "\n",
        "df.info()"
      ]
    },
    {
      "cell_type": "markdown",
      "id": "6a2aa881",
      "metadata": {
        "id": "6a2aa881"
      },
      "source": [
        "## Step 3: Data Analysis"
      ]
    },
    {
      "cell_type": "markdown",
      "id": "98b9d5dd",
      "metadata": {
        "id": "98b9d5dd"
      },
      "source": [
        "### Q1: What is the average number of goals for the home team?\n",
        "\n",
        "Hint: You can call the `mean()` method on the _'home_score'_ column."
      ]
    },
    {
      "cell_type": "code",
      "execution_count": 4,
      "id": "c2c5b5ea",
      "metadata": {
        "colab": {
          "base_uri": "https://localhost:8080/"
        },
        "id": "c2c5b5ea",
        "outputId": "3d6b3ecf-60f1-4931-92e0-7a5657fcee64"
      },
      "outputs": [
        {
          "output_type": "execute_result",
          "data": {
            "text/plain": [
              "1.8235897435897437"
            ]
          },
          "metadata": {},
          "execution_count": 4
        }
      ],
      "source": [
        "# Code here\n",
        "\n",
        "df['home_score'].mean()"
      ]
    },
    {
      "cell_type": "markdown",
      "id": "ce194e01",
      "metadata": {
        "id": "ce194e01"
      },
      "source": [
        "### Q2: What is the average number of goals for the away team?\n",
        "\n",
        "Hint: You can call the `mean()` method on the _'away_score'_ column."
      ]
    },
    {
      "cell_type": "code",
      "execution_count": 5,
      "id": "4fb43467",
      "metadata": {
        "colab": {
          "base_uri": "https://localhost:8080/"
        },
        "id": "4fb43467",
        "outputId": "ef48bd5d-213c-4674-dbb9-f8c0fe7f8c15"
      },
      "outputs": [
        {
          "output_type": "execute_result",
          "data": {
            "text/plain": [
              "1.2258885941644562"
            ]
          },
          "metadata": {},
          "execution_count": 5
        }
      ],
      "source": [
        "# Code here\n",
        "\n",
        "df['away_score'].mean()"
      ]
    },
    {
      "cell_type": "markdown",
      "id": "c6044d75",
      "metadata": {
        "id": "c6044d75"
      },
      "source": [
        "### Q3: What is the country with the highest overall home score?\n",
        "\n",
        "Hint: You will need to group the data by country, then get the sum of home scores for each country. You can use the `idxmax()` function to find the index(country) with the highest sum."
      ]
    },
    {
      "cell_type": "code",
      "execution_count": 6,
      "id": "e5d93b04",
      "metadata": {
        "colab": {
          "base_uri": "https://localhost:8080/",
          "height": 35
        },
        "id": "e5d93b04",
        "outputId": "8e518835-7f89-41e8-e2ce-916d59ab639e"
      },
      "outputs": [
        {
          "output_type": "execute_result",
          "data": {
            "text/plain": [
              "'Sweden'"
            ],
            "application/vnd.google.colaboratory.intrinsic+json": {
              "type": "string"
            }
          },
          "metadata": {},
          "execution_count": 6
        }
      ],
      "source": [
        "# Code here\n",
        "\n",
        "df.groupby('country')['home_score'].sum().idxmax()"
      ]
    },
    {
      "cell_type": "markdown",
      "id": "47e0f275",
      "metadata": {
        "id": "47e0f275"
      },
      "source": [
        "### Q4: What are the top 3 type of tournaments?\n",
        "\n",
        "Hint: You can use the `value_counts()` method to count the occurences of each unique value in the _'tournament'_ column."
      ]
    },
    {
      "cell_type": "code",
      "execution_count": 7,
      "id": "2d65e4e3",
      "metadata": {
        "colab": {
          "base_uri": "https://localhost:8080/"
        },
        "id": "2d65e4e3",
        "outputId": "b22601a9-de68-4014-e80e-32a140e397e3"
      },
      "outputs": [
        {
          "output_type": "execute_result",
          "data": {
            "text/plain": [
              "tournament\n",
              "Friendly                        11952\n",
              "FIFA World Cup qualification     4504\n",
              "UEFA Euro qualification          1502\n",
              "dtype: int64"
            ]
          },
          "metadata": {},
          "execution_count": 7
        }
      ],
      "source": [
        "# Code here\n",
        "\n",
        "df.value_counts('tournament').nlargest(3)"
      ]
    },
    {
      "cell_type": "markdown",
      "id": "0bdc8158",
      "metadata": {
        "id": "0bdc8158"
      },
      "source": [
        "### Q5: Which country has the highest overall FIFA World Cup goals?\n",
        "\n",
        "To answer this question, consider breaking down your solution into 3 steps.\n",
        "\n",
        "**5.1 Create a new dataframe (fifa_df) that only contains rows where the \"tournament\" column == 'FIFA World Cup'.**"
      ]
    },
    {
      "cell_type": "code",
      "execution_count": 8,
      "id": "db30530c",
      "metadata": {
        "id": "db30530c"
      },
      "outputs": [],
      "source": [
        "# Code here\n",
        "\n",
        "fifa_df=df[df.tournament == 'FIFA World Cup']"
      ]
    },
    {
      "cell_type": "markdown",
      "id": "c06b0011",
      "metadata": {
        "id": "c06b0011"
      },
      "source": [
        "**5.2 In your new fifa_df, create a new _'total_score'_ column that sums _'home_score'_ + _'away_score'_ for each row.**\n",
        "\n",
        "PS. If you get a \"SettingWithCopyWarning\", please ignore it."
      ]
    },
    {
      "cell_type": "code",
      "execution_count": 9,
      "id": "8dd33359",
      "metadata": {
        "id": "8dd33359"
      },
      "outputs": [],
      "source": [
        "# Code here\n",
        "fifa_df.insert(5, \"total_score\", fifa_df['home_score'] + fifa_df['away_score'])"
      ]
    },
    {
      "cell_type": "markdown",
      "id": "9b7d48d2",
      "metadata": {
        "id": "9b7d48d2"
      },
      "source": [
        "**5.3 Group your data by country, then get the sum of the _'total_score'_ column. From there, you can use `idxmax()` to find the country with the highest _'total_score'_.**"
      ]
    },
    {
      "cell_type": "code",
      "execution_count": 10,
      "id": "682c7a8a",
      "metadata": {
        "colab": {
          "base_uri": "https://localhost:8080/",
          "height": 35
        },
        "id": "682c7a8a",
        "outputId": "8a232101-7db9-40a3-c74f-d272f6f3ea7b"
      },
      "outputs": [
        {
          "output_type": "execute_result",
          "data": {
            "text/plain": [
              "'France'"
            ],
            "application/vnd.google.colaboratory.intrinsic+json": {
              "type": "string"
            }
          },
          "metadata": {},
          "execution_count": 10
        }
      ],
      "source": [
        "# Code here\n",
        "fifa_df.groupby('country')['total_score'].sum().idxmax()"
      ]
    }
  ],
  "metadata": {
    "kernelspec": {
      "display_name": "Python 3 (ipykernel)",
      "language": "python",
      "name": "python3"
    },
    "language_info": {
      "codemirror_mode": {
        "name": "ipython",
        "version": 3
      },
      "file_extension": ".py",
      "mimetype": "text/x-python",
      "name": "python",
      "nbconvert_exporter": "python",
      "pygments_lexer": "ipython3",
      "version": "3.11.5"
    },
    "colab": {
      "provenance": []
    }
  },
  "nbformat": 4,
  "nbformat_minor": 5
}